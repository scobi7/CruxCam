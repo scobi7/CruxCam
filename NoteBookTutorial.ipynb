{
 "cells": [
  {
   "cell_type": "markdown",
   "metadata": {},
   "source": [
    "# Tutorial"
   ]
  },
  {
   "cell_type": "markdown",
   "metadata": {},
   "source": [
    "My first step will be to create a data set, and make it usable. For this I will be filming my peers climbing, chopping the videos up into moves, and then adding a pose estimation visual using Media Pipe (subject to change). I am unsure if I want to use the event camera as I may just use a normal camera. \n",
    "\n",
    "Goals:\n",
    "Q1: create a working and accessible visual dataset of climbers moving on the climbing wall. \n",
    "\n",
    "Q2: Then use SNN torch to spike neurons identifying the names of the moves they are performing on the wall. \n",
    "\n",
    "Research: This is the part I have to come up with. Should i use a normal camera, or event camera? What will this identifying software be able to do in terms of research and advancement? \n",
    "    Ideas: - something with contact strength?\n",
    "           - are certain body positions more optimal/efficient?\n",
    "                a. I think I actually wanna do this after thinking about it. Only issue is how will I be able to \n",
    "                    measure efficiency and force output on the wall?\n",
    "           - Does height have a corrolation of what moves people decide to use?\n",
    "           - Does strength have a corrolation of what moves people decide on using?\n"
   ]
  }
 ],
 "metadata": {
  "kernelspec": {
   "display_name": ".venv",
   "language": "python",
   "name": "python3"
  },
  "language_info": {
   "codemirror_mode": {
    "name": "ipython",
    "version": 3
   },
   "file_extension": ".py",
   "mimetype": "text/x-python",
   "name": "python",
   "nbconvert_exporter": "python",
   "pygments_lexer": "ipython3",
   "version": "3.10.11"
  }
 },
 "nbformat": 4,
 "nbformat_minor": 2
}
